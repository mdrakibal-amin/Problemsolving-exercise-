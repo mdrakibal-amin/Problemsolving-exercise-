{
 "cells": [
  {
   "cell_type": "markdown",
   "id": "c3d1f8f8",
   "metadata": {},
   "source": [
    "# Assignment1 :"
   ]
  },
  {
   "cell_type": "markdown",
   "id": "b807b6e8",
   "metadata": {},
   "source": [
    "# 1. Given two integer numbers return their product. If the product is greater than 1000, then return their sum."
   ]
  },
  {
   "cell_type": "code",
   "execution_count": 1,
   "id": "ce1be1f8",
   "metadata": {},
   "outputs": [
    {
     "data": {
      "text/plain": [
       "120"
      ]
     },
     "execution_count": 1,
     "metadata": {},
     "output_type": "execute_result"
    }
   ],
   "source": [
    "def func(x1,x2):\n",
    "    if(x1 * x2)>1000:\n",
    "        return x1+x2\n",
    "    else:\n",
    "        return x1*x2\n",
    "\n",
    "func(100,20)"
   ]
  },
  {
   "cell_type": "markdown",
   "id": "22511e0a",
   "metadata": {},
   "source": [
    "# 2. Given a range of the first 10 numbers, Iterate from the start number to the end number, and In each iteration print the sum of the current number and previous number."
   ]
  },
  {
   "cell_type": "code",
   "execution_count": 2,
   "id": "e0428b7a",
   "metadata": {},
   "outputs": [
    {
     "name": "stdout",
     "output_type": "stream",
     "text": [
      "range(0, 10)\n",
      "0-->0\n",
      "1-->1\n",
      "2-->3\n",
      "3-->5\n",
      "4-->7\n",
      "5-->9\n",
      "6-->11\n",
      "7-->13\n",
      "8-->15\n",
      "9-->17\n"
     ]
    }
   ],
   "source": [
    "counter = 0\n",
    "lists = range(10)\n",
    "print(lists)\n",
    "for a in lists:\n",
    "    if counter != 0:\n",
    "        sum = a + lists[counter-1]\n",
    "    else:\n",
    "        sum = a \n",
    "    print(f\"{a}-->{sum}\")\n",
    "    counter +=1"
   ]
  },
  {
   "cell_type": "markdown",
   "id": "d870be7c",
   "metadata": {},
   "source": [
    "# 3.Print First 10 natural numbers using while loop."
   ]
  },
  {
   "cell_type": "code",
   "execution_count": 8,
   "id": "ca4d05e5",
   "metadata": {},
   "outputs": [
    {
     "name": "stdout",
     "output_type": "stream",
     "text": [
      "1\n",
      "2\n",
      "3\n",
      "4\n",
      "5\n",
      "6\n",
      "7\n",
      "8\n",
      "9\n",
      "10\n"
     ]
    }
   ],
   "source": [
    "natural_numbers = range(1,50,1)\n",
    "counter = 0\n",
    "while counter < 10:\n",
    "    print(natural_numbers[counter])\n",
    "    counter += 1"
   ]
  },
  {
   "cell_type": "markdown",
   "id": "809efebb",
   "metadata": {},
   "source": [
    "# 4. Accept number from user and calculate the sum of all number from 1 to a given number"
   ]
  },
  {
   "cell_type": "code",
   "execution_count": 9,
   "id": "ca87c631",
   "metadata": {},
   "outputs": [
    {
     "name": "stdout",
     "output_type": "stream",
     "text": [
      "Enter a Number: 8\n",
      "1\n",
      "2\n",
      "3\n",
      "4\n",
      "5\n",
      "6\n",
      "7\n",
      "8\n",
      "36\n"
     ]
    }
   ],
   "source": [
    "user_input = int(input(\"Enter a Number: \"))\n",
    "sum = 0\n",
    "for x in range(1,user_input+1):\n",
    "    print(x)\n",
    "    sum += int(x)\n",
    "print(sum)"
   ]
  },
  {
   "cell_type": "markdown",
   "id": "787358dc",
   "metadata": {},
   "source": [
    "# 5. Given a list, iterate it, and display numbers divisible by five, and if you find a number greater than 150, stop the loop iteration."
   ]
  },
  {
   "cell_type": "code",
   "execution_count": 17,
   "id": "37dac0b3",
   "metadata": {},
   "outputs": [
    {
     "name": "stdout",
     "output_type": "stream",
     "text": [
      "15\n",
      "20\n",
      "12\n",
      "25\n",
      "40\n"
     ]
    }
   ],
   "source": [
    "lists = [15,1,20,12,3,4,25,40,2,180,35,55]\n",
    "for x in lists:\n",
    "    if(x > 150):\n",
    "        break\n",
    "    elif(x//5):\n",
    "        print(x)\n",
    "    else:\n",
    "        pass"
   ]
  },
  {
   "cell_type": "markdown",
   "id": "8597bdb9",
   "metadata": {},
   "source": [
    "# 6. Reverse the following list using for loop"
   ]
  },
  {
   "cell_type": "code",
   "execution_count": 14,
   "id": "2b2189a1",
   "metadata": {},
   "outputs": [
    {
     "name": "stdout",
     "output_type": "stream",
     "text": [
      "[87, 75, 65, 50, 40, 30, 20, 10]\n"
     ]
    }
   ],
   "source": [
    "R_list=[10,20,30,40,50,65,75,87]\n",
    "output_list = []\n",
    "index = len(R_list)\n",
    "for x in range(index):\n",
    "    output_list.append(R_list[index-1])\n",
    "    index -= 1\n",
    "print(output_list)"
   ]
  },
  {
   "cell_type": "markdown",
   "id": "72973f4e",
   "metadata": {},
   "source": [
    "# 7. Display “My Name Is James” as “My**Name**Is**James” using output formatting of a print() function.or example: print('My', 'Name', 'Is', 'Tamim') will display MyNameIsJames"
   ]
  },
  {
   "cell_type": "code",
   "execution_count": 15,
   "id": "13bbd43a",
   "metadata": {},
   "outputs": [
    {
     "name": "stdout",
     "output_type": "stream",
     "text": [
      "My**Name**Is**Rakib\n"
     ]
    }
   ],
   "source": [
    "print('My', 'Name', 'Is', 'Rakib',sep = '**')"
   ]
  },
  {
   "cell_type": "markdown",
   "id": "d0edf584",
   "metadata": {},
   "source": [
    "# 8. Concatenate two lists index-wise"
   ]
  },
  {
   "cell_type": "code",
   "execution_count": 18,
   "id": "5833b8c6",
   "metadata": {},
   "outputs": [
    {
     "name": "stdout",
     "output_type": "stream",
     "text": [
      "['Rakib-> AB+', 'Khalid-> O-', 'Sagor-> B-', 'Amit-> O+', 'Raju-> AB-', 'Sajib-> A-', 'Mamun-> B+']\n"
     ]
    }
   ],
   "source": [
    "list1 = [\"Rakib\",\"Khalid\",\"Sagor\",\"Amit\",\"Raju\",\"Sajib\",\"Mamun\"]\n",
    "list2 = [\"-> AB+\",\"-> O-\",\"-> B-\",\"-> O+\",\"-> AB-\", \"-> A-\", \"-> B+\"]\n",
    "list3 = []\n",
    "counter = 0\n",
    "for x in list1:\n",
    "    list3.append(x+list2[counter])\n",
    "    counter = counter +1\n",
    "print(list3)"
   ]
  },
  {
   "cell_type": "markdown",
   "id": "26ed6987",
   "metadata": {},
   "source": [
    "# 9. Given a Python list of numbers. Turn every item of a list into its square"
   ]
  },
  {
   "cell_type": "code",
   "execution_count": 19,
   "id": "e661907f",
   "metadata": {},
   "outputs": [
    {
     "name": "stdout",
     "output_type": "stream",
     "text": [
      "[1, 7.839999999999999, 400, 16, 625, 256, 57.76, 64, 81, 138.0625]\n"
     ]
    }
   ],
   "source": [
    "list1 = [1,2.8,20,4,25,16,7.6,8,9,11.75]\n",
    "square_list = []\n",
    "for x in list1:\n",
    "    square_list.append(x*x)\n",
    "print(square_list)"
   ]
  },
  {
   "cell_type": "markdown",
   "id": "7a100d75",
   "metadata": {},
   "source": [
    "# 10. Access value 20 from the following tuple -> aTuple = (\"Orange\", [10, 20, 30], (5, 15, 25))"
   ]
  },
  {
   "cell_type": "code",
   "execution_count": 20,
   "id": "a108e9ac",
   "metadata": {},
   "outputs": [
    {
     "name": "stdout",
     "output_type": "stream",
     "text": [
      "20\n"
     ]
    }
   ],
   "source": [
    "aTuple = (\"Orange\", [10, 20, 30], (5, 15, 25))\n",
    "value = aTuple[1][1]\n",
    "print(value)"
   ]
  }
 ],
 "metadata": {
  "kernelspec": {
   "display_name": "Python 3 (ipykernel)",
   "language": "python",
   "name": "python3"
  },
  "language_info": {
   "codemirror_mode": {
    "name": "ipython",
    "version": 3
   },
   "file_extension": ".py",
   "mimetype": "text/x-python",
   "name": "python",
   "nbconvert_exporter": "python",
   "pygments_lexer": "ipython3",
   "version": "3.9.7"
  }
 },
 "nbformat": 4,
 "nbformat_minor": 5
}
